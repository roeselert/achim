{
  "nbformat": 4,
  "nbformat_minor": 0,
  "metadata": {
    "colab": {
      "name": "Untitled.ipynb",
      "version": "0.3.2",
      "provenance": [],
      "include_colab_link": true
    },
    "language_info": {
      "codemirror_mode": {
        "name": "ipython",
        "version": 3
      },
      "file_extension": ".py",
      "mimetype": "text/x-python",
      "name": "python",
      "nbconvert_exporter": "python",
      "pygments_lexer": "ipython3",
      "version": "3.7.2"
    },
    "kernelspec": {
      "display_name": "Python 3",
      "language": "python",
      "name": "python3"
    }
  },
  "cells": [
    {
      "cell_type": "markdown",
      "metadata": {
        "id": "view-in-github",
        "colab_type": "text"
      },
      "source": [
        "<a href=\"https://colab.research.google.com/github/roeselert/achim/blob/master/Untitled.ipynb\" target=\"_parent\"><img src=\"https://colab.research.google.com/assets/colab-badge.svg\" alt=\"Open In Colab\"/></a>"
      ]
    },
    {
      "cell_type": "code",
      "metadata": {
        "id": "pQk0fbbuKBs0",
        "colab_type": "code",
        "colab": {}
      },
      "source": [
        "!pip install pandas\n",
        "!pip install alpha_vantage"
      ],
      "execution_count": 0,
      "outputs": []
    },
    {
      "cell_type": "code",
      "metadata": {
        "id": "RVx35GCTKRtf",
        "colab_type": "code",
        "colab": {}
      },
      "source": [
        "api_key = \"8J0ZES8POJY9WC6B\"\n",
        "\n",
        "symbols = ['MSFT']\n"
      ],
      "execution_count": 0,
      "outputs": []
    },
    {
      "cell_type": "code",
      "metadata": {
        "id": "2AuDLHKMLI0u",
        "colab_type": "code",
        "colab": {}
      },
      "source": [
        "from alpha_vantage.timeseries import TimeSeries\n",
        "import matplotlib.pyplot as plt\n",
        "\n",
        "ts = TimeSeries(key=api_key, output_format='pandas')\n",
        "data, meta_data = ts.get_intraday(symbol='MSFT',interval='1min', outputsize='full')\n",
        "\n",
        "data['4. close'].plot()\n",
        "plt.title('Intraday Times Series for the MSFT stock (1 min)')\n",
        "plt.show()\n"
      ],
      "execution_count": 0,
      "outputs": []
    },
    {
      "cell_type": "code",
      "metadata": {
        "id": "xMZOry8XMLla",
        "colab_type": "code",
        "colab": {
          "base_uri": "https://localhost:8080/",
          "height": 171
        },
        "outputId": "f7fcc177-16a0-4818-a5ce-c93728771b0b"
      },
      "source": [
        "from alpha_vantage.timeseries import TimeSeries\n",
        "import matplotlib.pyplot as plt\n",
        "import time\n",
        "\n",
        "for i in symbols:\n",
        "  print(i)\n",
        "  ts = TimeSeries(key=api_key, output_format='pandas')\n",
        "  data, meta_data = ts.get_daily(symbol=i)\n",
        "  filename = i+'.csv'\n",
        "  print(filename)\n",
        "  print(data.head())\n",
        "  data.to_csv (filename, index = None, header=True) #Don't forget to add '.csv' at the end of the path\n",
        "\n"
      ],
      "execution_count": 32,
      "outputs": [
        {
          "output_type": "stream",
          "text": [
            "MSFT\n",
            "MSFT.csv\n",
            "            1. open  2. high  3. low  4. close    5. volume\n",
            "date                                                       \n",
            "2018-12-17   105.41   105.80  101.71    102.89   56957314.0\n",
            "2018-12-18   103.75   104.51  102.52    103.97   49319196.0\n",
            "2018-12-19   103.65   106.88  101.35    103.69   68198186.0\n",
            "2018-12-20   103.05   104.31   98.78    101.51   70334184.0\n",
            "2018-12-21   101.63   103.00   97.46     98.23  111242070.0\n"
          ],
          "name": "stdout"
        }
      ]
    }
  ]
}