{
  "nbformat": 4,
  "nbformat_minor": 0,
  "metadata": {
    "colab": {
      "name": "Untitled.ipynb",
      "version": "0.3.2",
      "provenance": [],
      "include_colab_link": true
    },
    "language_info": {
      "codemirror_mode": {
        "name": "ipython",
        "version": 3
      },
      "file_extension": ".py",
      "mimetype": "text/x-python",
      "name": "python",
      "nbconvert_exporter": "python",
      "pygments_lexer": "ipython3",
      "version": "3.7.2"
    },
    "kernelspec": {
      "display_name": "Python 3",
      "language": "python",
      "name": "python3"
    }
  },
  "cells": [
    {
      "cell_type": "markdown",
      "metadata": {
        "id": "view-in-github",
        "colab_type": "text"
      },
      "source": [
        "<a href=\"https://colab.research.google.com/github/roeselert/achim/blob/master/Download_csv.ipynb\" target=\"_parent\"><img src=\"https://colab.research.google.com/assets/colab-badge.svg\" alt=\"Open In Colab\"/></a>"
      ]
    },
    {
      "cell_type": "code",
      "metadata": {
        "id": "pQk0fbbuKBs0",
        "colab_type": "code",
        "outputId": "a1e4c10b-fa20-4924-d48e-270541d03372",
        "colab": {
          "base_uri": "https://localhost:8080/",
          "height": 628
        }
      },
      "source": [
        "!pip install pandas\n",
        "!pip install alpha_vantage"
      ],
      "execution_count": 5,
      "outputs": [
        {
          "output_type": "stream",
          "text": [
            "Requirement already satisfied: pandas in /usr/local/lib/python3.6/dist-packages (0.24.2)\n",
            "Requirement already satisfied: numpy>=1.12.0 in /usr/local/lib/python3.6/dist-packages (from pandas) (1.16.3)\n",
            "Requirement already satisfied: pytz>=2011k in /usr/local/lib/python3.6/dist-packages (from pandas) (2018.9)\n",
            "Requirement already satisfied: python-dateutil>=2.5.0 in /usr/local/lib/python3.6/dist-packages (from pandas) (2.5.3)\n",
            "Requirement already satisfied: six>=1.5 in /usr/local/lib/python3.6/dist-packages (from python-dateutil>=2.5.0->pandas) (1.12.0)\n",
            "Collecting alpha_vantage\n",
            "  Downloading https://files.pythonhosted.org/packages/7a/6c/81c7f1c58064cb2ce808edc6c4cdb3241f70bf8cd158289540cdf9fe0204/alpha_vantage-2.1.0.tar.gz\n",
            "Requirement already satisfied: requests in /usr/local/lib/python3.6/dist-packages (from alpha_vantage) (2.21.0)\n",
            "Requirement already satisfied: idna<2.9,>=2.5 in /usr/local/lib/python3.6/dist-packages (from requests->alpha_vantage) (2.8)\n",
            "Requirement already satisfied: chardet<3.1.0,>=3.0.2 in /usr/local/lib/python3.6/dist-packages (from requests->alpha_vantage) (3.0.4)\n",
            "Requirement already satisfied: urllib3<1.25,>=1.21.1 in /usr/local/lib/python3.6/dist-packages (from requests->alpha_vantage) (1.24.3)\n",
            "Requirement already satisfied: certifi>=2017.4.17 in /usr/local/lib/python3.6/dist-packages (from requests->alpha_vantage) (2019.3.9)\n",
            "Building wheels for collected packages: alpha-vantage\n",
            "  Building wheel for alpha-vantage (setup.py) ... \u001b[?25l\u001b[?25hdone\n",
            "  Stored in directory: /root/.cache/pip/wheels/21/9c/02/b7cfae63f7119f4089f229ba1a09ce90fabbaf96199c2890be\n",
            "Successfully built alpha-vantage\n",
            "Installing collected packages: alpha-vantage\n",
            "Successfully installed alpha-vantage-2.1.0\n"
          ],
          "name": "stdout"
        }
      ]
    },
    {
      "cell_type": "code",
      "metadata": {
        "id": "RVx35GCTKRtf",
        "colab_type": "code",
        "colab": {}
      },
      "source": [
        "api_key = \"8J0ZES8POJY9WC6B\"\n",
        "\n",
        "symbols = ['MSFT','AAM']\n"
      ],
      "execution_count": 0,
      "outputs": []
    },
    {
      "cell_type": "code",
      "metadata": {
        "id": "2AuDLHKMLI0u",
        "colab_type": "code",
        "colab": {}
      },
      "source": [
        "from alpha_vantage.timeseries import TimeSeries\n",
        "import matplotlib.pyplot as plt\n",
        "\n",
        "ts = TimeSeries(key=api_key, output_format='pandas')\n",
        "data, meta_data = ts.get_intraday(symbol='MSFT',interval='1min', outputsize='full')\n",
        "\n",
        "data['4. close'].plot()\n",
        "plt.title('Intraday Times Series for the MSFT stock (1 min)')\n",
        "plt.show()\n"
      ],
      "execution_count": 0,
      "outputs": []
    },
    {
      "cell_type": "code",
      "metadata": {
        "id": "xMZOry8XMLla",
        "colab_type": "code",
        "outputId": "5f3e88d0-89c0-4bdc-bbf3-a2314db1637f",
        "colab": {
          "base_uri": "https://localhost:8080/",
          "height": 85
        }
      },
      "source": [
        "from alpha_vantage.timeseries import TimeSeries\n",
        "import time\n",
        "import pandas as pd\n",
        "from google.colab import files\n",
        "\n",
        "\n",
        "for i in symbols:\n",
        "  try: \n",
        "    print(i)\n",
        "    ts = TimeSeries(key=api_key, output_format='pandas')\n",
        "    data, meta_data = ts.get_daily(symbol=i)\n",
        "    filename = i+'.csv'\n",
        "    print(filename)\n",
        "    #print(data.head())\n",
        "    data.to_csv (filename, header=True)\n",
        "    files.download(filename) \n",
        "    time.sleep(15)\n",
        "  except Error as e:\n",
        "    print(e)\n",
        "\n",
        "  "
      ],
      "execution_count": 6,
      "outputs": [
        {
          "output_type": "stream",
          "text": [
            "MSFT\n",
            "MSFT.csv\n",
            "AAM\n",
            "AAM.csv\n"
          ],
          "name": "stdout"
        }
      ]
    },
    {
      "cell_type": "code",
      "metadata": {
        "id": "p1_3QxtlWx4O",
        "colab_type": "code",
        "outputId": "a3b7a3d0-dbcd-4a6e-82cc-007ba320f1eb",
        "colab": {
          "base_uri": "https://localhost:8080/",
          "height": 131
        }
      },
      "source": [
        "!ls -l"
      ],
      "execution_count": 0,
      "outputs": [
        {
          "output_type": "stream",
          "text": [
            "total 24\n",
            "-rw-r--r-- 1 root root 5015 May 11 19:40 AAM.csv\n",
            "-rw-r--r-- 1 root root    3 May 11 19:41 all.csv\n",
            "-rw-r--r-- 1 root root 5021 May 11 19:39 MSFT.csv\n",
            "drwxr-xr-x 1 root root 4096 May  8 16:22 sample_data\n"
          ],
          "name": "stdout"
        }
      ]
    },
    {
      "cell_type": "code",
      "metadata": {
        "id": "pA7e3SvjXf1Y",
        "colab_type": "code",
        "colab": {}
      },
      "source": [
        "from google.colab import files\n",
        "files.download('xxx.csv') "
      ],
      "execution_count": 0,
      "outputs": []
    }
  ]
}