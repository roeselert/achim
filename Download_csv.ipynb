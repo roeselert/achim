{
  "nbformat": 4,
  "nbformat_minor": 0,
  "metadata": {
    "colab": {
      "name": "Untitled.ipynb",
      "version": "0.3.2",
      "provenance": [],
      "include_colab_link": true
    },
    "language_info": {
      "codemirror_mode": {
        "name": "ipython",
        "version": 3
      },
      "file_extension": ".py",
      "mimetype": "text/x-python",
      "name": "python",
      "nbconvert_exporter": "python",
      "pygments_lexer": "ipython3",
      "version": "3.7.2"
    },
    "kernelspec": {
      "display_name": "Python 3",
      "language": "python",
      "name": "python3"
    }
  },
  "cells": [
    {
      "cell_type": "markdown",
      "metadata": {
        "id": "view-in-github",
        "colab_type": "text"
      },
      "source": [
        "<a href=\"https://colab.research.google.com/github/roeselert/achim/blob/master/Download_csv.ipynb\" target=\"_parent\"><img src=\"https://colab.research.google.com/assets/colab-badge.svg\" alt=\"Open In Colab\"/></a>"
      ]
    },
    {
      "cell_type": "code",
      "metadata": {
        "id": "pQk0fbbuKBs0",
        "colab_type": "code",
        "colab": {}
      },
      "source": [
        "!pip install pandas\n",
        "!pip install alpha_vantage"
      ],
      "execution_count": 0,
      "outputs": []
    },
    {
      "cell_type": "code",
      "metadata": {
        "id": "RVx35GCTKRtf",
        "colab_type": "code",
        "colab": {}
      },
      "source": [
        "api_key = \"8J0ZES8POJY9WC6B\"\n",
        "\n",
        "symbols = ['MSFT','AAM']\n",
        "\n",
        "\n",
        "def next_key(p_api_key, p_current):\n",
        "  \n",
        "  max = len(p_api_key)\n",
        "  next = p_api_key[p_current]\n",
        "  next_current = p_current +1\n",
        "  if next_current == max:\n",
        "    next_current = 0\n",
        "    \n",
        "  time_out = 60 / 3 / max\n",
        "\n",
        "\n",
        "  return next, next_current, time_out\n",
        "\n"
      ],
      "execution_count": 0,
      "outputs": []
    },
    {
      "cell_type": "code",
      "metadata": {
        "id": "77JsZijf5YmU",
        "colab_type": "code",
        "colab": {
          "base_uri": "https://localhost:8080/",
          "height": 85
        },
        "outputId": "a3c999ce-e149-42e2-b9c1-fd25dbc82b32"
      },
      "source": [
        "api_key_test_2 = [\"8J\",\"22\"]\n",
        "\n",
        "current_test = 0\n",
        "\n",
        "key, current_test, time_out_test = next_key(api_key_test_2, current_test)\n",
        "print(key)\n",
        "print(time_out_test)\n",
        "\n",
        "assert key == api_key_test_2[0], '%s ' % key\n",
        "assert time_out_test == 10, '%s ' % time_out_test\n",
        "\n",
        "key, current_test, time_out_test = next_key(api_key_test_2, current_test)\n",
        "print(key)\n",
        "assert key == api_key_test_2[1], '%s ' % key\n",
        "\n",
        "key, current_test, time_out_test = next_key(api_key_test_2, current_test)\n",
        "print(key)\n",
        "assert key == api_key_test_2[0], '%s ' % key"
      ],
      "execution_count": 12,
      "outputs": [
        {
          "output_type": "stream",
          "text": [
            "8J\n",
            "10.0\n",
            "22\n",
            "8J\n"
          ],
          "name": "stdout"
        }
      ]
    },
    {
      "cell_type": "code",
      "metadata": {
        "id": "2AuDLHKMLI0u",
        "colab_type": "code",
        "colab": {}
      },
      "source": [
        "from alpha_vantage.timeseries import TimeSeries\n",
        "import matplotlib.pyplot as plt\n",
        "\n",
        "ts = TimeSeries(key=api_key, output_format='pandas')\n",
        "data, meta_data = ts.get_intraday(symbol='MSFT',interval='1min', outputsize='full')\n",
        "\n",
        "data['4. close'].plot()\n",
        "plt.title('Intraday Times Series for the MSFT stock (1 min)')\n",
        "plt.show()\n"
      ],
      "execution_count": 0,
      "outputs": []
    },
    {
      "cell_type": "code",
      "metadata": {
        "id": "xMZOry8XMLla",
        "colab_type": "code",
        "outputId": "5f3e88d0-89c0-4bdc-bbf3-a2314db1637f",
        "colab": {
          "base_uri": "https://localhost:8080/",
          "height": 85
        }
      },
      "source": [
        "from alpha_vantage.timeseries import TimeSeries\n",
        "import time\n",
        "import pandas as pd\n",
        "from google.colab import files\n",
        "\n",
        "\n",
        "for i in symbols:\n",
        "  try: \n",
        "    print(i)\n",
        "    ts = TimeSeries(key=api_key, output_format='pandas')\n",
        "    data, meta_data = ts.get_daily(symbol=i)\n",
        "    filename = i+'.csv'\n",
        "    print(filename)\n",
        "    #print(data.head())\n",
        "    data.to_csv (filename, header=True)\n",
        "    files.download(filename) \n",
        "    time.sleep(15)\n",
        "  except Error as e:\n",
        "    print(e)\n",
        "\n",
        "  "
      ],
      "execution_count": 0,
      "outputs": [
        {
          "output_type": "stream",
          "text": [
            "MSFT\n",
            "MSFT.csv\n",
            "AAM\n",
            "AAM.csv\n"
          ],
          "name": "stdout"
        }
      ]
    },
    {
      "cell_type": "code",
      "metadata": {
        "id": "p1_3QxtlWx4O",
        "colab_type": "code",
        "outputId": "a3b7a3d0-dbcd-4a6e-82cc-007ba320f1eb",
        "colab": {
          "base_uri": "https://localhost:8080/",
          "height": 131
        }
      },
      "source": [
        "!ls -l"
      ],
      "execution_count": 0,
      "outputs": [
        {
          "output_type": "stream",
          "text": [
            "total 24\n",
            "-rw-r--r-- 1 root root 5015 May 11 19:40 AAM.csv\n",
            "-rw-r--r-- 1 root root    3 May 11 19:41 all.csv\n",
            "-rw-r--r-- 1 root root 5021 May 11 19:39 MSFT.csv\n",
            "drwxr-xr-x 1 root root 4096 May  8 16:22 sample_data\n"
          ],
          "name": "stdout"
        }
      ]
    },
    {
      "cell_type": "code",
      "metadata": {
        "id": "pA7e3SvjXf1Y",
        "colab_type": "code",
        "colab": {}
      },
      "source": [
        "from google.colab import files\n",
        "files.download('xxx.csv') "
      ],
      "execution_count": 0,
      "outputs": []
    }
  ]
}